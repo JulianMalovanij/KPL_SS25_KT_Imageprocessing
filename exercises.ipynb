{
 "cells": [
  {
   "metadata": {},
   "cell_type": "markdown",
   "source": "# Theorie",
   "id": "3009af0ff472c6ec"
  },
  {
   "metadata": {},
   "cell_type": "markdown",
   "source": [
    "## Multi-Layer-Perzeptron (MLP)\n",
    "Ein MLP ist ein relativ einfaches neuronales Netz, welches aus einer Eingabe-, mehreren versteckten und einer Ausgabeschicht besteht. Die Schichten sind dabei vollständig vernetzt, d.h. jedes Neuron der vorherigen Schicht ist mit jedem Neuron der nachfolgenden Schicht verbunden [[Biso19]](#Quellen). In Abb. 1 ist ein einfaches MLP zu sehen, aus welchem diese Struktur deutlich hervorgeht.\n",
    "\n",
    "![Deep Feedforward Neural Network](MLP.png)\n",
    "Abb. 1: Darstellung eines MLP aus [[Biso19, Fig. 31-1]](#Quellen)\n",
    "\n",
    "Der Nachteil dieser Netzarchitektur ist die relativ schlechte Skalierung für große Eingaben. Dies wird im Folgenden auch in Übung 2 deutlich."
   ],
   "id": "f47ffb4b480d15fd"
  },
  {
   "metadata": {},
   "cell_type": "markdown",
   "source": [
    "## Convolutional Neural Network (CNN)\n",
    "Ein CNN ist eine Erweiterung der MLP. Bei diesen werden Convolutional Layer eingeführt, welche sich auf ein lokales Subset der Eingabedaten begrenzt. Hierbei können dann lokale Merkmale besser extrahiert werden. Da dies nach dem Vorbild der Neuronen im visuellen Kortex des Gehirns gestaltet ist, sind diese Netzwerke sehr gut für Bilderkennungsanwendungen geeignet [[Biso19]](#Quellen). Ein allgemeiner Überblick über den typischen Aufbau ist in Abb. 2 zu sehen.\n",
    "\n",
    "![CNN](CNN.png)\n",
    "Abb. 2: Überblick über ein typisches CNN aus [[Biso19, Fig. 35-15]](#Quellen)\n",
    "\n",
    "Im Gegensatz zu den verdeckten Schichten im MLP sind diese Layer nicht vollständig miteinander vernetzt (vgl. Abb. 3), sondern konzentrieren sich auf die lokale Nachbarschaft. Dies wird über sogenannte Pooling-Schichten erledigt, welche die Bilddaten zusammenfassen und dadurch auch den Rechenaufwand reduzieren [[Biso19]](#Quellen).\n",
    "\n",
    "![Convolutional Layer](Convolutional.png)\n",
    "Abb. 3: Ein Convolutional Layer im Überblick aus [[Biso19, Fig. 35-5]](#Quellen)"
   ],
   "id": "3df072d74dc257cc"
  },
  {
   "metadata": {},
   "cell_type": "markdown",
   "source": "# Übung 1",
   "id": "35effc0013df0661"
  },
  {
   "metadata": {},
   "cell_type": "markdown",
   "source": [
    "## Training und Klassifizierung mit einem MLP\n",
    "\n",
    "In der ersten Übung soll ein MLP (Multilayer Perceptron) trainiert werden, welches Bilder von Ziffern erkennen soll.\n",
    "Hierfür verwenden wir die Python-Bibliothek scikit-learn und den MNIST Datensatz.\n",
    "\n",
    "Scikit-learn ist ein Machine-Learning-Framework, welches sich an Laien richtet und daher eine vereinfachte API, auf Kosten von Geschwindigkeit und Features, anbietet. Es ist daher eher für einfachere, kleine Problemstellungen geeignet [[F++11]](#Quellen).\n",
    "\n",
    "Im ersten Schritt importieren wir zunächst die benötigten Module."
   ],
   "id": "e1badfcc7c025b7e"
  },
  {
   "metadata": {
    "ExecuteTime": {
     "end_time": "2025-05-12T08:54:52.480416Z",
     "start_time": "2025-05-12T08:54:52.474170Z"
    }
   },
   "cell_type": "code",
   "source": [
    "# Methode, um den Datensatz herunterzuladen\n",
    "from sklearn.datasets import fetch_openml\n",
    "# Methode, um den Datensatz in Trainings- und Testdaten zu teilen\n",
    "from sklearn.model_selection import train_test_split\n",
    "# Das MLP\n",
    "from sklearn.neural_network import MLPClassifier"
   ],
   "id": "4d64c1fe7df9f530",
   "outputs": [],
   "execution_count": 14
  },
  {
   "metadata": {},
   "cell_type": "markdown",
   "source": [
    "Danach holen wir uns den MNIST Datensatz von OpenML und Normalisieren die Werte auf die Spanne 0-1 (Der Datensatz besteht aus 70000 28x28 Grayscale Pixeln mit Werten zwischen 0 und 255).\n",
    "\n",
    "Aus diesem vorbereiteten Datensatz wählen wir nun Trainings- und Testdaten mit einem 80-20 Split."
   ],
   "id": "35723c460a59da64"
  },
  {
   "metadata": {
    "ExecuteTime": {
     "end_time": "2025-05-12T08:55:01.566162Z",
     "start_time": "2025-05-12T08:54:52.530035Z"
    }
   },
   "cell_type": "code",
   "source": [
    "X, y = fetch_openml('mnist_784', version=1, return_X_y=True,\n",
    "                    as_frame=False)  # 70.000 Ziffernbilder 28x28\n",
    "X = X / 255.0  # Normalisierung (0-1)\n",
    "X_train, X_test, y_train, y_test = train_test_split(X, y, test_size=0.2, random_state=42)"
   ],
   "id": "d7312c31c1a142bf",
   "outputs": [],
   "execution_count": 15
  },
  {
   "metadata": {},
   "cell_type": "markdown",
   "source": [
    "Hierbei steht X für die Werte und y für die Labels bzw. Klassen, die den Werten zugeordnet sind.\n",
    "\n",
    "Im nächsten Schritt erstellen wir nun das MLP und trainieren dieses (Dauer ca. 30s). Hierbei hat die verdeckte schicht 50 Neuronen und wir trainieren für maximal 10 Epochen. Hierbei verwenden wir ausschließlich die Trainingsdaten."
   ],
   "id": "a1bac6d44c73c0f1"
  },
  {
   "metadata": {
    "ExecuteTime": {
     "end_time": "2025-05-12T08:55:11.367562Z",
     "start_time": "2025-05-12T08:55:01.590693Z"
    }
   },
   "cell_type": "code",
   "source": [
    "# MLP definieren und trainieren\n",
    "clf = MLPClassifier(hidden_layer_sizes=(50,), max_iter=10, random_state=42)\n",
    "clf.fit(X_train, y_train)"
   ],
   "id": "394ebdd0c35c9af9",
   "outputs": [
    {
     "name": "stderr",
     "output_type": "stream",
     "text": [
      "C:\\Users\\jmal\\Documents\\OTH\\SEM11\\KPL\\KT\\.venv\\Lib\\site-packages\\sklearn\\neural_network\\_multilayer_perceptron.py:691: ConvergenceWarning: Stochastic Optimizer: Maximum iterations (10) reached and the optimization hasn't converged yet.\n",
      "  warnings.warn(\n"
     ]
    },
    {
     "data": {
      "text/plain": [
       "MLPClassifier(hidden_layer_sizes=(50,), max_iter=10, random_state=42)"
      ],
      "text/html": [
       "<style>#sk-container-id-2 {\n",
       "  /* Definition of color scheme common for light and dark mode */\n",
       "  --sklearn-color-text: #000;\n",
       "  --sklearn-color-text-muted: #666;\n",
       "  --sklearn-color-line: gray;\n",
       "  /* Definition of color scheme for unfitted estimators */\n",
       "  --sklearn-color-unfitted-level-0: #fff5e6;\n",
       "  --sklearn-color-unfitted-level-1: #f6e4d2;\n",
       "  --sklearn-color-unfitted-level-2: #ffe0b3;\n",
       "  --sklearn-color-unfitted-level-3: chocolate;\n",
       "  /* Definition of color scheme for fitted estimators */\n",
       "  --sklearn-color-fitted-level-0: #f0f8ff;\n",
       "  --sklearn-color-fitted-level-1: #d4ebff;\n",
       "  --sklearn-color-fitted-level-2: #b3dbfd;\n",
       "  --sklearn-color-fitted-level-3: cornflowerblue;\n",
       "\n",
       "  /* Specific color for light theme */\n",
       "  --sklearn-color-text-on-default-background: var(--sg-text-color, var(--theme-code-foreground, var(--jp-content-font-color1, black)));\n",
       "  --sklearn-color-background: var(--sg-background-color, var(--theme-background, var(--jp-layout-color0, white)));\n",
       "  --sklearn-color-border-box: var(--sg-text-color, var(--theme-code-foreground, var(--jp-content-font-color1, black)));\n",
       "  --sklearn-color-icon: #696969;\n",
       "\n",
       "  @media (prefers-color-scheme: dark) {\n",
       "    /* Redefinition of color scheme for dark theme */\n",
       "    --sklearn-color-text-on-default-background: var(--sg-text-color, var(--theme-code-foreground, var(--jp-content-font-color1, white)));\n",
       "    --sklearn-color-background: var(--sg-background-color, var(--theme-background, var(--jp-layout-color0, #111)));\n",
       "    --sklearn-color-border-box: var(--sg-text-color, var(--theme-code-foreground, var(--jp-content-font-color1, white)));\n",
       "    --sklearn-color-icon: #878787;\n",
       "  }\n",
       "}\n",
       "\n",
       "#sk-container-id-2 {\n",
       "  color: var(--sklearn-color-text);\n",
       "}\n",
       "\n",
       "#sk-container-id-2 pre {\n",
       "  padding: 0;\n",
       "}\n",
       "\n",
       "#sk-container-id-2 input.sk-hidden--visually {\n",
       "  border: 0;\n",
       "  clip: rect(1px 1px 1px 1px);\n",
       "  clip: rect(1px, 1px, 1px, 1px);\n",
       "  height: 1px;\n",
       "  margin: -1px;\n",
       "  overflow: hidden;\n",
       "  padding: 0;\n",
       "  position: absolute;\n",
       "  width: 1px;\n",
       "}\n",
       "\n",
       "#sk-container-id-2 div.sk-dashed-wrapped {\n",
       "  border: 1px dashed var(--sklearn-color-line);\n",
       "  margin: 0 0.4em 0.5em 0.4em;\n",
       "  box-sizing: border-box;\n",
       "  padding-bottom: 0.4em;\n",
       "  background-color: var(--sklearn-color-background);\n",
       "}\n",
       "\n",
       "#sk-container-id-2 div.sk-container {\n",
       "  /* jupyter's `normalize.less` sets `[hidden] { display: none; }`\n",
       "     but bootstrap.min.css set `[hidden] { display: none !important; }`\n",
       "     so we also need the `!important` here to be able to override the\n",
       "     default hidden behavior on the sphinx rendered scikit-learn.org.\n",
       "     See: https://github.com/scikit-learn/scikit-learn/issues/21755 */\n",
       "  display: inline-block !important;\n",
       "  position: relative;\n",
       "}\n",
       "\n",
       "#sk-container-id-2 div.sk-text-repr-fallback {\n",
       "  display: none;\n",
       "}\n",
       "\n",
       "div.sk-parallel-item,\n",
       "div.sk-serial,\n",
       "div.sk-item {\n",
       "  /* draw centered vertical line to link estimators */\n",
       "  background-image: linear-gradient(var(--sklearn-color-text-on-default-background), var(--sklearn-color-text-on-default-background));\n",
       "  background-size: 2px 100%;\n",
       "  background-repeat: no-repeat;\n",
       "  background-position: center center;\n",
       "}\n",
       "\n",
       "/* Parallel-specific style estimator block */\n",
       "\n",
       "#sk-container-id-2 div.sk-parallel-item::after {\n",
       "  content: \"\";\n",
       "  width: 100%;\n",
       "  border-bottom: 2px solid var(--sklearn-color-text-on-default-background);\n",
       "  flex-grow: 1;\n",
       "}\n",
       "\n",
       "#sk-container-id-2 div.sk-parallel {\n",
       "  display: flex;\n",
       "  align-items: stretch;\n",
       "  justify-content: center;\n",
       "  background-color: var(--sklearn-color-background);\n",
       "  position: relative;\n",
       "}\n",
       "\n",
       "#sk-container-id-2 div.sk-parallel-item {\n",
       "  display: flex;\n",
       "  flex-direction: column;\n",
       "}\n",
       "\n",
       "#sk-container-id-2 div.sk-parallel-item:first-child::after {\n",
       "  align-self: flex-end;\n",
       "  width: 50%;\n",
       "}\n",
       "\n",
       "#sk-container-id-2 div.sk-parallel-item:last-child::after {\n",
       "  align-self: flex-start;\n",
       "  width: 50%;\n",
       "}\n",
       "\n",
       "#sk-container-id-2 div.sk-parallel-item:only-child::after {\n",
       "  width: 0;\n",
       "}\n",
       "\n",
       "/* Serial-specific style estimator block */\n",
       "\n",
       "#sk-container-id-2 div.sk-serial {\n",
       "  display: flex;\n",
       "  flex-direction: column;\n",
       "  align-items: center;\n",
       "  background-color: var(--sklearn-color-background);\n",
       "  padding-right: 1em;\n",
       "  padding-left: 1em;\n",
       "}\n",
       "\n",
       "\n",
       "/* Toggleable style: style used for estimator/Pipeline/ColumnTransformer box that is\n",
       "clickable and can be expanded/collapsed.\n",
       "- Pipeline and ColumnTransformer use this feature and define the default style\n",
       "- Estimators will overwrite some part of the style using the `sk-estimator` class\n",
       "*/\n",
       "\n",
       "/* Pipeline and ColumnTransformer style (default) */\n",
       "\n",
       "#sk-container-id-2 div.sk-toggleable {\n",
       "  /* Default theme specific background. It is overwritten whether we have a\n",
       "  specific estimator or a Pipeline/ColumnTransformer */\n",
       "  background-color: var(--sklearn-color-background);\n",
       "}\n",
       "\n",
       "/* Toggleable label */\n",
       "#sk-container-id-2 label.sk-toggleable__label {\n",
       "  cursor: pointer;\n",
       "  display: flex;\n",
       "  width: 100%;\n",
       "  margin-bottom: 0;\n",
       "  padding: 0.5em;\n",
       "  box-sizing: border-box;\n",
       "  text-align: center;\n",
       "  align-items: start;\n",
       "  justify-content: space-between;\n",
       "  gap: 0.5em;\n",
       "}\n",
       "\n",
       "#sk-container-id-2 label.sk-toggleable__label .caption {\n",
       "  font-size: 0.6rem;\n",
       "  font-weight: lighter;\n",
       "  color: var(--sklearn-color-text-muted);\n",
       "}\n",
       "\n",
       "#sk-container-id-2 label.sk-toggleable__label-arrow:before {\n",
       "  /* Arrow on the left of the label */\n",
       "  content: \"▸\";\n",
       "  float: left;\n",
       "  margin-right: 0.25em;\n",
       "  color: var(--sklearn-color-icon);\n",
       "}\n",
       "\n",
       "#sk-container-id-2 label.sk-toggleable__label-arrow:hover:before {\n",
       "  color: var(--sklearn-color-text);\n",
       "}\n",
       "\n",
       "/* Toggleable content - dropdown */\n",
       "\n",
       "#sk-container-id-2 div.sk-toggleable__content {\n",
       "  max-height: 0;\n",
       "  max-width: 0;\n",
       "  overflow: hidden;\n",
       "  text-align: left;\n",
       "  /* unfitted */\n",
       "  background-color: var(--sklearn-color-unfitted-level-0);\n",
       "}\n",
       "\n",
       "#sk-container-id-2 div.sk-toggleable__content.fitted {\n",
       "  /* fitted */\n",
       "  background-color: var(--sklearn-color-fitted-level-0);\n",
       "}\n",
       "\n",
       "#sk-container-id-2 div.sk-toggleable__content pre {\n",
       "  margin: 0.2em;\n",
       "  border-radius: 0.25em;\n",
       "  color: var(--sklearn-color-text);\n",
       "  /* unfitted */\n",
       "  background-color: var(--sklearn-color-unfitted-level-0);\n",
       "}\n",
       "\n",
       "#sk-container-id-2 div.sk-toggleable__content.fitted pre {\n",
       "  /* unfitted */\n",
       "  background-color: var(--sklearn-color-fitted-level-0);\n",
       "}\n",
       "\n",
       "#sk-container-id-2 input.sk-toggleable__control:checked~div.sk-toggleable__content {\n",
       "  /* Expand drop-down */\n",
       "  max-height: 200px;\n",
       "  max-width: 100%;\n",
       "  overflow: auto;\n",
       "}\n",
       "\n",
       "#sk-container-id-2 input.sk-toggleable__control:checked~label.sk-toggleable__label-arrow:before {\n",
       "  content: \"▾\";\n",
       "}\n",
       "\n",
       "/* Pipeline/ColumnTransformer-specific style */\n",
       "\n",
       "#sk-container-id-2 div.sk-label input.sk-toggleable__control:checked~label.sk-toggleable__label {\n",
       "  color: var(--sklearn-color-text);\n",
       "  background-color: var(--sklearn-color-unfitted-level-2);\n",
       "}\n",
       "\n",
       "#sk-container-id-2 div.sk-label.fitted input.sk-toggleable__control:checked~label.sk-toggleable__label {\n",
       "  background-color: var(--sklearn-color-fitted-level-2);\n",
       "}\n",
       "\n",
       "/* Estimator-specific style */\n",
       "\n",
       "/* Colorize estimator box */\n",
       "#sk-container-id-2 div.sk-estimator input.sk-toggleable__control:checked~label.sk-toggleable__label {\n",
       "  /* unfitted */\n",
       "  background-color: var(--sklearn-color-unfitted-level-2);\n",
       "}\n",
       "\n",
       "#sk-container-id-2 div.sk-estimator.fitted input.sk-toggleable__control:checked~label.sk-toggleable__label {\n",
       "  /* fitted */\n",
       "  background-color: var(--sklearn-color-fitted-level-2);\n",
       "}\n",
       "\n",
       "#sk-container-id-2 div.sk-label label.sk-toggleable__label,\n",
       "#sk-container-id-2 div.sk-label label {\n",
       "  /* The background is the default theme color */\n",
       "  color: var(--sklearn-color-text-on-default-background);\n",
       "}\n",
       "\n",
       "/* On hover, darken the color of the background */\n",
       "#sk-container-id-2 div.sk-label:hover label.sk-toggleable__label {\n",
       "  color: var(--sklearn-color-text);\n",
       "  background-color: var(--sklearn-color-unfitted-level-2);\n",
       "}\n",
       "\n",
       "/* Label box, darken color on hover, fitted */\n",
       "#sk-container-id-2 div.sk-label.fitted:hover label.sk-toggleable__label.fitted {\n",
       "  color: var(--sklearn-color-text);\n",
       "  background-color: var(--sklearn-color-fitted-level-2);\n",
       "}\n",
       "\n",
       "/* Estimator label */\n",
       "\n",
       "#sk-container-id-2 div.sk-label label {\n",
       "  font-family: monospace;\n",
       "  font-weight: bold;\n",
       "  display: inline-block;\n",
       "  line-height: 1.2em;\n",
       "}\n",
       "\n",
       "#sk-container-id-2 div.sk-label-container {\n",
       "  text-align: center;\n",
       "}\n",
       "\n",
       "/* Estimator-specific */\n",
       "#sk-container-id-2 div.sk-estimator {\n",
       "  font-family: monospace;\n",
       "  border: 1px dotted var(--sklearn-color-border-box);\n",
       "  border-radius: 0.25em;\n",
       "  box-sizing: border-box;\n",
       "  margin-bottom: 0.5em;\n",
       "  /* unfitted */\n",
       "  background-color: var(--sklearn-color-unfitted-level-0);\n",
       "}\n",
       "\n",
       "#sk-container-id-2 div.sk-estimator.fitted {\n",
       "  /* fitted */\n",
       "  background-color: var(--sklearn-color-fitted-level-0);\n",
       "}\n",
       "\n",
       "/* on hover */\n",
       "#sk-container-id-2 div.sk-estimator:hover {\n",
       "  /* unfitted */\n",
       "  background-color: var(--sklearn-color-unfitted-level-2);\n",
       "}\n",
       "\n",
       "#sk-container-id-2 div.sk-estimator.fitted:hover {\n",
       "  /* fitted */\n",
       "  background-color: var(--sklearn-color-fitted-level-2);\n",
       "}\n",
       "\n",
       "/* Specification for estimator info (e.g. \"i\" and \"?\") */\n",
       "\n",
       "/* Common style for \"i\" and \"?\" */\n",
       "\n",
       ".sk-estimator-doc-link,\n",
       "a:link.sk-estimator-doc-link,\n",
       "a:visited.sk-estimator-doc-link {\n",
       "  float: right;\n",
       "  font-size: smaller;\n",
       "  line-height: 1em;\n",
       "  font-family: monospace;\n",
       "  background-color: var(--sklearn-color-background);\n",
       "  border-radius: 1em;\n",
       "  height: 1em;\n",
       "  width: 1em;\n",
       "  text-decoration: none !important;\n",
       "  margin-left: 0.5em;\n",
       "  text-align: center;\n",
       "  /* unfitted */\n",
       "  border: var(--sklearn-color-unfitted-level-1) 1pt solid;\n",
       "  color: var(--sklearn-color-unfitted-level-1);\n",
       "}\n",
       "\n",
       ".sk-estimator-doc-link.fitted,\n",
       "a:link.sk-estimator-doc-link.fitted,\n",
       "a:visited.sk-estimator-doc-link.fitted {\n",
       "  /* fitted */\n",
       "  border: var(--sklearn-color-fitted-level-1) 1pt solid;\n",
       "  color: var(--sklearn-color-fitted-level-1);\n",
       "}\n",
       "\n",
       "/* On hover */\n",
       "div.sk-estimator:hover .sk-estimator-doc-link:hover,\n",
       ".sk-estimator-doc-link:hover,\n",
       "div.sk-label-container:hover .sk-estimator-doc-link:hover,\n",
       ".sk-estimator-doc-link:hover {\n",
       "  /* unfitted */\n",
       "  background-color: var(--sklearn-color-unfitted-level-3);\n",
       "  color: var(--sklearn-color-background);\n",
       "  text-decoration: none;\n",
       "}\n",
       "\n",
       "div.sk-estimator.fitted:hover .sk-estimator-doc-link.fitted:hover,\n",
       ".sk-estimator-doc-link.fitted:hover,\n",
       "div.sk-label-container:hover .sk-estimator-doc-link.fitted:hover,\n",
       ".sk-estimator-doc-link.fitted:hover {\n",
       "  /* fitted */\n",
       "  background-color: var(--sklearn-color-fitted-level-3);\n",
       "  color: var(--sklearn-color-background);\n",
       "  text-decoration: none;\n",
       "}\n",
       "\n",
       "/* Span, style for the box shown on hovering the info icon */\n",
       ".sk-estimator-doc-link span {\n",
       "  display: none;\n",
       "  z-index: 9999;\n",
       "  position: relative;\n",
       "  font-weight: normal;\n",
       "  right: .2ex;\n",
       "  padding: .5ex;\n",
       "  margin: .5ex;\n",
       "  width: min-content;\n",
       "  min-width: 20ex;\n",
       "  max-width: 50ex;\n",
       "  color: var(--sklearn-color-text);\n",
       "  box-shadow: 2pt 2pt 4pt #999;\n",
       "  /* unfitted */\n",
       "  background: var(--sklearn-color-unfitted-level-0);\n",
       "  border: .5pt solid var(--sklearn-color-unfitted-level-3);\n",
       "}\n",
       "\n",
       ".sk-estimator-doc-link.fitted span {\n",
       "  /* fitted */\n",
       "  background: var(--sklearn-color-fitted-level-0);\n",
       "  border: var(--sklearn-color-fitted-level-3);\n",
       "}\n",
       "\n",
       ".sk-estimator-doc-link:hover span {\n",
       "  display: block;\n",
       "}\n",
       "\n",
       "/* \"?\"-specific style due to the `<a>` HTML tag */\n",
       "\n",
       "#sk-container-id-2 a.estimator_doc_link {\n",
       "  float: right;\n",
       "  font-size: 1rem;\n",
       "  line-height: 1em;\n",
       "  font-family: monospace;\n",
       "  background-color: var(--sklearn-color-background);\n",
       "  border-radius: 1rem;\n",
       "  height: 1rem;\n",
       "  width: 1rem;\n",
       "  text-decoration: none;\n",
       "  /* unfitted */\n",
       "  color: var(--sklearn-color-unfitted-level-1);\n",
       "  border: var(--sklearn-color-unfitted-level-1) 1pt solid;\n",
       "}\n",
       "\n",
       "#sk-container-id-2 a.estimator_doc_link.fitted {\n",
       "  /* fitted */\n",
       "  border: var(--sklearn-color-fitted-level-1) 1pt solid;\n",
       "  color: var(--sklearn-color-fitted-level-1);\n",
       "}\n",
       "\n",
       "/* On hover */\n",
       "#sk-container-id-2 a.estimator_doc_link:hover {\n",
       "  /* unfitted */\n",
       "  background-color: var(--sklearn-color-unfitted-level-3);\n",
       "  color: var(--sklearn-color-background);\n",
       "  text-decoration: none;\n",
       "}\n",
       "\n",
       "#sk-container-id-2 a.estimator_doc_link.fitted:hover {\n",
       "  /* fitted */\n",
       "  background-color: var(--sklearn-color-fitted-level-3);\n",
       "}\n",
       "</style><div id=\"sk-container-id-2\" class=\"sk-top-container\"><div class=\"sk-text-repr-fallback\"><pre>MLPClassifier(hidden_layer_sizes=(50,), max_iter=10, random_state=42)</pre><b>In a Jupyter environment, please rerun this cell to show the HTML representation or trust the notebook. <br />On GitHub, the HTML representation is unable to render, please try loading this page with nbviewer.org.</b></div><div class=\"sk-container\" hidden><div class=\"sk-item\"><div class=\"sk-estimator fitted sk-toggleable\"><input class=\"sk-toggleable__control sk-hidden--visually\" id=\"sk-estimator-id-2\" type=\"checkbox\" checked><label for=\"sk-estimator-id-2\" class=\"sk-toggleable__label fitted sk-toggleable__label-arrow\"><div><div>MLPClassifier</div></div><div><a class=\"sk-estimator-doc-link fitted\" rel=\"noreferrer\" target=\"_blank\" href=\"https://scikit-learn.org/1.6/modules/generated/sklearn.neural_network.MLPClassifier.html\">?<span>Documentation for MLPClassifier</span></a><span class=\"sk-estimator-doc-link fitted\">i<span>Fitted</span></span></div></label><div class=\"sk-toggleable__content fitted\"><pre>MLPClassifier(hidden_layer_sizes=(50,), max_iter=10, random_state=42)</pre></div> </div></div></div></div>"
      ]
     },
     "execution_count": 16,
     "metadata": {},
     "output_type": "execute_result"
    }
   ],
   "execution_count": 16
  },
  {
   "metadata": {},
   "cell_type": "markdown",
   "source": [
    "Nachdem wir das Netzwerk trainiert haben, können wir nun die Bilder mithilfe unseres Netzwerks klassifizieren. Da wir auch die Labels zu diesen haben, können wir auch die Genauigkeit bestimmen.\n",
    "\n",
    "Hierbei bietet es sich an, die Genauigkeit von Trainings- und Testdaten separat zu erfassen, da hierdurch die Fähigkeit des Netzwerks, unbekannte Bilder zu klassifizieren, bewertet werden kann."
   ],
   "id": "fe4cdfb880c1a565"
  },
  {
   "metadata": {
    "ExecuteTime": {
     "end_time": "2025-05-12T08:55:11.931143Z",
     "start_time": "2025-05-12T08:55:11.451400Z"
    }
   },
   "cell_type": "code",
   "source": [
    "# Modellbewertung\n",
    "train_acc = clf.score(X_train, y_train)\n",
    "test_acc = clf.score(X_test, y_test)\n",
    "print(f\"Trainingsgenauigkeit: {train_acc:.2f}, Testgenauigkeit: {test_acc:.2f}\")"
   ],
   "id": "5a32e651eec48094",
   "outputs": [
    {
     "name": "stdout",
     "output_type": "stream",
     "text": [
      "Trainingsgenauigkeit: 0.98, Testgenauigkeit: 0.96\n"
     ]
    }
   ],
   "execution_count": 17
  },
  {
   "metadata": {},
   "cell_type": "markdown",
   "source": [
    "Hier ist zu sehen, dass trotz der relativ kurzen Trainingsphase bereits gute Ergebnisse in der Klassifikation sowohl bekannter als auch unbekannter Ziffernbilder erzielt werden kann.\n",
    "\n",
    "(Referenzwerte für Fehlschlag der Live-Demo: Trainingsgenauigkeit 0.96, Testgenauigkeit 0.94)"
   ],
   "id": "e47378477a09c5c7"
  },
  {
   "metadata": {},
   "cell_type": "markdown",
   "source": [
    "## Visualisierung\n",
    "Nun können wir auch den Lernfortschritt visualisieren. Hierfür erstellen wir ein neues MLP und verwenden jetzt die Methode `partial_fit` anstelle der Methode `fit`, um nach den einzelnen Epochen den aktuellen Trainingsstatus zu erhalten."
   ],
   "id": "d145265bc3b428d"
  },
  {
   "metadata": {
    "ExecuteTime": {
     "end_time": "2025-05-12T08:55:28.995834Z",
     "start_time": "2025-05-12T08:55:11.972702Z"
    }
   },
   "cell_type": "code",
   "source": [
    "import matplotlib.pyplot as plt\n",
    "import numpy as np\n",
    "\n",
    "# Neues MLP erzeugen\n",
    "clf = MLPClassifier(hidden_layer_sizes=(50,), max_iter=10, random_state=42)\n",
    "history_train = []\n",
    "history_test = []\n",
    "\n",
    "for i in range(1, clf.max_iter + 1):\n",
    "    # Partielles fitting auf den Trainingsdaten. Hierbei wird das Modell schrittweise erweitert.\n",
    "    # Die Angabe von classes gibt alle möglichen Labels an. Dies ist notwendig, damit das Modell auch dann korrekt ist, wenn die Trainingsdaten einer Epoche mal nicht alle Labels enthalten.\n",
    "    clf.partial_fit(X_train, y_train, classes=np.unique(y))\n",
    "    train_acc = clf.score(X_train, y_train)\n",
    "    test_acc = clf.score(X_test, y_test)\n",
    "    history_train.append(train_acc)\n",
    "    history_test.append(test_acc)"
   ],
   "id": "c994e03b16823cbc",
   "outputs": [],
   "execution_count": 18
  },
  {
   "metadata": {},
   "cell_type": "markdown",
   "source": "Die Daten werden in dem jeweiligen History-Array abgespeichert. Diese können wir nun dafür nutzen, einen Plot der Lernkurve zu erstellen.",
   "id": "359ee2fbd7db42d"
  },
  {
   "metadata": {
    "ExecuteTime": {
     "end_time": "2025-05-12T08:55:29.273395Z",
     "start_time": "2025-05-12T08:55:29.023791Z"
    }
   },
   "cell_type": "code",
   "source": [
    "# Lernkurve anzeigen\n",
    "plt.figure(figsize=(8, 5))\n",
    "plt.plot(range(1, clf.max_iter + 1), history_train, label='Trainingsgenauigkeit')\n",
    "plt.plot(range(1, clf.max_iter + 1), history_test, label='Testgenauigkeit')\n",
    "plt.xlabel('Epochen')\n",
    "plt.ylabel('Genauigkeit')\n",
    "plt.title('Lernkurve')\n",
    "plt.legend()\n",
    "plt.grid(True)\n",
    "plt.show()\n",
    "\n",
    "# Letzte Trainings- und Testgenauigkeit ausgeben\n",
    "print(f\"Letzte Trainingsgenauigkeit: {history_train[-1]:.2f}\")\n",
    "print(f\"Letzte Testgenauigkeit: {history_test[-1]:.2f}\")"
   ],
   "id": "ab214f6404130ceb",
   "outputs": [
    {
     "data": {
      "text/plain": [
       "<Figure size 800x500 with 1 Axes>"
      ],
      "image/png": "[encoded data removed]"
     },
     "metadata": {},
     "output_type": "display_data"
    },
    {
     "name": "stdout",
     "output_type": "stream",
     "text": [
      "Letzte Trainingsgenauigkeit: 0.98\n",
      "Letzte Testgenauigkeit: 0.96\n"
     ]
    }
   ],
   "execution_count": 19
  },
  {
   "metadata": {},
   "cell_type": "markdown",
   "source": "Wie in diesem Plot zu sehen ist, können bereits nach einer Epoche auf diesem relativ einfachen MLP bereits gute Ergebnisse erzielt werden. Zu sehen ist allerdings auch, dass die Trainings- und Testgenauigkeiten immer weiter auseinanderdriften und jede weitere Epoche die Genauigkeit nur noch schwächer verbessern kann.",
   "id": "5d93c000394f1c09"
  },
  {
   "metadata": {},
   "cell_type": "markdown",
   "source": "# Übung 2",
   "id": "f71a226ea1b91a6"
  },
  {
   "metadata": {},
   "cell_type": "markdown",
   "source": [
    "## Training und Klassifizierung mit einem CNN\n",
    "In der zweiten Übung soll ein CNN (Convolutional Neural Network) trainiert werden, um verschiedene Objekte auf Farbbildern zu erkennen. Zudem soll in dieser Übung das Framework Tensorflow/Keras als eine Alternative zu dem MLPClassifier aus dem scikit-learn Framework aus Übung 1 nähergebracht werden.\n",
    "\n",
    "Tensorflow wird im Allgemeinen in vielen KI-Anwendungen als Framework verwendet, da es mehr Features als scikit-learn bietet und sich besser für große Modelle eignet, unter anderem aufgrund der Möglichkeit zur Nutzung von GPUs sowie Techniken des Distributed Computings [[M++05]](#Quellen). Ein Beispiel hierfür sind LLMs, welche mit dem Programm Ollama auf eigener Hardware laufen können.\n",
    "\n",
    "Für diese Übung wird zudem der CIFAR10 Datensatz, welcher 60000 32x32 Pixel Farbbilder enthält, welche in 10 Kategorien eingeteilt sind, verwendet.\n",
    "\n",
    "Im ersten Schritt importieren wir wieder die nötigen Module."
   ],
   "id": "1b2b9c389dec6b2b"
  },
  {
   "metadata": {
    "ExecuteTime": {
     "end_time": "2025-05-12T08:55:29.312457Z",
     "start_time": "2025-05-12T08:55:29.303964Z"
    }
   },
   "cell_type": "code",
   "source": [
    "# CIFAR10-Datensatz\n",
    "from tensorflow.keras.datasets import cifar10\n",
    "# Sequenzielles Modell aus Keras\n",
    "from tensorflow.keras.models import Sequential\n",
    "# Verschiedene Layer, aus welchen das Modell zusammengebaut wird\n",
    "from tensorflow.keras.layers import Input, Conv2D, MaxPooling2D, Flatten, Dense\n",
    "# Tools\n",
    "from tensorflow.keras.utils import to_categorical"
   ],
   "id": "b458f8663e3c03fb",
   "outputs": [],
   "execution_count": 20
  },
  {
   "metadata": {},
   "cell_type": "markdown",
   "source": [
    "Im nächsten Schritt muss, wie auch schon in Übung 1, der Datensatz geladen, normalisiert und in Trainings- und Testdaten aufgeteilt werden.\n",
    "\n",
    "Der CIFAR10-Datensatz hat diese Unterteilung bereits integriert, mit 5x10000 Bildern für das Training und einem weiteren Datensatz von 10000 Bildern für den Test.\n",
    "\n",
    "Zudem müssen die Labels in die One-Hot-Kodierung überführt werden. Diese erlaubt es uns später, eine Wahrscheinlichkeitsverteilung über die 10 Klassen für das Testbild anzugeben."
   ],
   "id": "a763b0715b8093"
  },
  {
   "metadata": {
    "ExecuteTime": {
     "end_time": "2025-05-12T08:55:33.107493Z",
     "start_time": "2025-05-12T08:55:29.368388Z"
    }
   },
   "cell_type": "code",
   "source": [
    "# CIFAR-10 laden\n",
    "(X_train, y_train), (X_test, y_test) = cifar10.load_data()\n",
    "# Normalisieren\n",
    "X_train = X_train / 255.0\n",
    "X_test = X_test / 255.0\n",
    "# One-Hot-Kodierung (0,0,0,1,0,0,0,0,0,0) = Kategorie 4\n",
    "y_train = to_categorical(y_train, 10)\n",
    "y_test = to_categorical(y_test, 10)"
   ],
   "id": "e1265e55fcfa973a",
   "outputs": [],
   "execution_count": 21
  },
  {
   "metadata": {},
   "cell_type": "markdown",
   "source": [
    "Im nächsten Schritt erstellen wir das Modell. Hierfür verwenden wir eine sequenzielle Zusammenstellung aus Layern (genaue Beschreibung siehe Code-Kommentare).\n",
    "\n",
    "Der Grundaufbau des Modells sind 2 Convolutional-Layer, jeweils mit 3x3 Filtern, welche jeweils von einem Pooling-Layer zusammengefasst werden (um die Datengröße zu verringern). Diese beiden werden von einem MLP mit 64 Neuronen ausgewertet und auf einen Output-Layer, welcher eine Wahrscheinlichkeitsverteilung für die einzelnen Klassen ausgibt, gemappt.\n",
    "\n",
    "Diese Zusammenstellung wird dann kompiliert, also in ein nutzbares Modell zusammengebaut."
   ],
   "id": "47e2fe08eeeefaa5"
  },
  {
   "metadata": {
    "ExecuteTime": {
     "end_time": "2025-05-12T08:55:33.206533Z",
     "start_time": "2025-05-12T08:55:33.141449Z"
    }
   },
   "cell_type": "code",
   "source": [
    "# CNN-Modell\n",
    "model = Sequential([\n",
    "    Input(shape=(32, 32, 3)),  # Eingabe-Definition: 32x32 Pixel mit 3 Farbkanälen\n",
    "    Conv2D(32, (3, 3), activation='relu'),\n",
    "    # Convolutional Layer mit 32 3x3 Filtern zur Merkmalsextraktion (z.B. Kanten, Texturen, ...)\n",
    "    MaxPooling2D(pool_size=(2, 2)),\n",
    "    # Pooling-Layer, welcher die Bilder verkleinert und dabei die wichtigsten Merkmale extrahiert\n",
    "    Conv2D(64, (3, 3), activation='relu'),\n",
    "    # weiterer Convolutional-Layer, ermöglicht die Extraktion komplexerer Merkmale\n",
    "    MaxPooling2D(pool_size=(2, 2)),  # weiterer Pooling Layer, destilliert die Merkmale weiter\n",
    "    Flatten(),  # Umwandlung der mehrdimensionalen Daten in eine Dimension für das MLP\n",
    "    Dense(64, activation='relu'),  # Voll verbundener 64 Neuronen großer Layer, analog zum MLP in Übung 1\n",
    "    Dense(10, activation='softmax')\n",
    "    # Ausgabelayer mit 10 Neuronen, deren Output eine Wahrscheinlichkeitsverteilung über die 10 Kategorien darstellen\n",
    "])\n",
    "\n",
    "model.compile(optimizer='adam', loss='categorical_crossentropy', metrics=['accuracy'])"
   ],
   "id": "1ed41c8ba253c605",
   "outputs": [],
   "execution_count": 22
  },
  {
   "metadata": {},
   "cell_type": "markdown",
   "source": "Im nächsten Schritt wird das Modell über 5 Epochen trainiert und mit 10% der Daten validiert (Dauer ca. 4 min).",
   "id": "5e06745426ca7e9b"
  },
  {
   "metadata": {
    "ExecuteTime": {
     "end_time": "2025-05-12T08:58:12.071676Z",
     "start_time": "2025-05-12T08:55:33.242589Z"
    }
   },
   "cell_type": "code",
   "source": "model.fit(X_train, y_train, epochs=5, validation_split=0.1)",
   "id": "20b51b0452f0c252",
   "outputs": [
    {
     "name": "stdout",
     "output_type": "stream",
     "text": [
      "Epoch 1/5\n",
      "\u001B[1m1407/1407\u001B[0m \u001B[32m━━━━━━━━━━━━━━━━━━━━\u001B[0m\u001B[37m\u001B[0m \u001B[1m39s\u001B[0m 26ms/step - accuracy: 0.3637 - loss: 1.7314 - val_accuracy: 0.5678 - val_loss: 1.2160\n",
      "Epoch 2/5\n",
      "\u001B[1m1407/1407\u001B[0m \u001B[32m━━━━━━━━━━━━━━━━━━━━\u001B[0m\u001B[37m\u001B[0m \u001B[1m33s\u001B[0m 23ms/step - accuracy: 0.5867 - loss: 1.1787 - val_accuracy: 0.6170 - val_loss: 1.1126\n",
      "Epoch 3/5\n",
      "\u001B[1m1407/1407\u001B[0m \u001B[32m━━━━━━━━━━━━━━━━━━━━\u001B[0m\u001B[37m\u001B[0m \u001B[1m30s\u001B[0m 21ms/step - accuracy: 0.6370 - loss: 1.0391 - val_accuracy: 0.6550 - val_loss: 0.9816\n",
      "Epoch 4/5\n",
      "\u001B[1m1407/1407\u001B[0m \u001B[32m━━━━━━━━━━━━━━━━━━━━\u001B[0m\u001B[37m\u001B[0m \u001B[1m29s\u001B[0m 21ms/step - accuracy: 0.6674 - loss: 0.9548 - val_accuracy: 0.6612 - val_loss: 0.9560\n",
      "Epoch 5/5\n",
      "\u001B[1m1407/1407\u001B[0m \u001B[32m━━━━━━━━━━━━━━━━━━━━\u001B[0m\u001B[37m\u001B[0m \u001B[1m27s\u001B[0m 19ms/step - accuracy: 0.6964 - loss: 0.8768 - val_accuracy: 0.6800 - val_loss: 0.9338\n"
     ]
    },
    {
     "data": {
      "text/plain": [
       "<keras.src.callbacks.history.History at 0x242a9810140>"
      ]
     },
     "execution_count": 23,
     "metadata": {},
     "output_type": "execute_result"
    }
   ],
   "execution_count": 23
  },
  {
   "metadata": {},
   "cell_type": "markdown",
   "source": "Nach dem Training können wir das Modell erneut testen",
   "id": "254660023701b006"
  },
  {
   "metadata": {
    "ExecuteTime": {
     "end_time": "2025-05-12T08:59:22.101606Z",
     "start_time": "2025-05-12T08:59:19.737002Z"
    }
   },
   "cell_type": "code",
   "source": [
    "score = model.evaluate(X_test, y_test)\n",
    "print(\"Testgenauigkeit:\", score[1])"
   ],
   "id": "733c346d541ff606",
   "outputs": [
    {
     "name": "stdout",
     "output_type": "stream",
     "text": [
      "\u001B[1m313/313\u001B[0m \u001B[32m━━━━━━━━━━━━━━━━━━━━\u001B[0m\u001B[37m\u001B[0m \u001B[1m2s\u001B[0m 7ms/step - accuracy: 0.6704 - loss: 0.9641\n",
      "Testgenauigkeit: 0.6710000038146973\n"
     ]
    }
   ],
   "execution_count": 25
  },
  {
   "metadata": {},
   "cell_type": "markdown",
   "source": [
    "Referenzwert für Fehlschlag der Live-Demo: Testgenauigkeit 0.67\n",
    "\n",
    "Nach einer so kurzen Trainings-Zeit ergibt sich schon eine anschauliche Testgenauigkeit, welche jedoch durch Verbesserungen des Modells, längerem Training, etc. weiter verbessert werden kann.\n",
    "\n",
    "Um nun noch einen Vergleich zu einem MLP herstellen zu können, wird im Folgenden ebendieses erstellt, auf denselben Daten trainiert und ebenfalls ausgewertet (Dauer ca. 3 min)."
   ],
   "id": "9c4e30355b944f93"
  },
  {
   "metadata": {
    "ExecuteTime": {
     "end_time": "2025-05-12T09:01:09.988973Z",
     "start_time": "2025-05-12T08:59:27.365778Z"
    }
   },
   "cell_type": "code",
   "source": [
    "# MLP-Modell (ohne Convolutional Layers, dafür mit 2 weiteren MLP-Layern)\n",
    "mlp = Sequential([\n",
    "    Input(shape=(32, 32, 3)),\n",
    "    Flatten(),\n",
    "    Dense(256, activation='relu'),\n",
    "    Dense(128, activation='relu'),\n",
    "    Dense(64, activation='relu'),\n",
    "    Dense(10, activation='softmax')\n",
    "])\n",
    "\n",
    "mlp.compile(optimizer='adam', loss='categorical_crossentropy', metrics=['accuracy'])\n",
    "mlp.fit(X_train, y_train, epochs=5, validation_split=0.1)\n",
    "\n",
    "score = mlp.evaluate(X_test, y_test)\n",
    "print(\"Testgenauigkeit:\", score[1])"
   ],
   "id": "db5f97a99968f606",
   "outputs": [
    {
     "name": "stdout",
     "output_type": "stream",
     "text": [
      "Epoch 1/5\n",
      "\u001B[1m1407/1407\u001B[0m \u001B[32m━━━━━━━━━━━━━━━━━━━━\u001B[0m\u001B[37m\u001B[0m \u001B[1m22s\u001B[0m 14ms/step - accuracy: 0.2684 - loss: 2.0112 - val_accuracy: 0.3580 - val_loss: 1.7999\n",
      "Epoch 2/5\n",
      "\u001B[1m1407/1407\u001B[0m \u001B[32m━━━━━━━━━━━━━━━━━━━━\u001B[0m\u001B[37m\u001B[0m \u001B[1m20s\u001B[0m 14ms/step - accuracy: 0.3789 - loss: 1.7321 - val_accuracy: 0.3736 - val_loss: 1.7480\n",
      "Epoch 3/5\n",
      "\u001B[1m1407/1407\u001B[0m \u001B[32m━━━━━━━━━━━━━━━━━━━━\u001B[0m\u001B[37m\u001B[0m \u001B[1m21s\u001B[0m 15ms/step - accuracy: 0.4059 - loss: 1.6488 - val_accuracy: 0.4304 - val_loss: 1.6243\n",
      "Epoch 4/5\n",
      "\u001B[1m1407/1407\u001B[0m \u001B[32m━━━━━━━━━━━━━━━━━━━━\u001B[0m\u001B[37m\u001B[0m \u001B[1m18s\u001B[0m 13ms/step - accuracy: 0.4291 - loss: 1.5888 - val_accuracy: 0.4156 - val_loss: 1.6401\n",
      "Epoch 5/5\n",
      "\u001B[1m1407/1407\u001B[0m \u001B[32m━━━━━━━━━━━━━━━━━━━━\u001B[0m\u001B[37m\u001B[0m \u001B[1m18s\u001B[0m 13ms/step - accuracy: 0.4500 - loss: 1.5368 - val_accuracy: 0.4296 - val_loss: 1.6199\n",
      "\u001B[1m313/313\u001B[0m \u001B[32m━━━━━━━━━━━━━━━━━━━━\u001B[0m\u001B[37m\u001B[0m \u001B[1m1s\u001B[0m 4ms/step - accuracy: 0.4192 - loss: 1.6054\n",
      "Testgenauigkeit: 0.424699991941452\n"
     ]
    }
   ],
   "execution_count": 26
  },
  {
   "metadata": {},
   "cell_type": "markdown",
   "source": [
    "Referenzwert für Fehlschlag der Live-Demo: Testgenauigkeit 0.43\n",
    "\n",
    "Somit ist zu sehen, dass das einfache MLP im Gegensatz zum CNN eine deutlich niedrigere Genauigkeit erzielt und sogar mehr als die Hälfte der Bilder falsch klassifiziert."
   ],
   "id": "334d4f3cc9759a94"
  },
  {
   "metadata": {},
   "cell_type": "markdown",
   "source": [
    "# Quellen\n",
    "|          |                                                                                                                                                                                                                                                                                                                                                                                                                                                                                                                                                                   |\n",
    "|:---------|------------------------------------------------------------------------------------------------------------------------------------------------------------------------------------------------------------------------------------------------------------------------------------------------------------------------------------------------------------------------------------------------------------------------------------------------------------------------------------------------------------------------------------------------------------------:|\n",
    "| [Biso19] |                                                                                                                                                                                                                                                                                                                                                                               Bisong, Ekaba; Building Machine Learning and Deep Learning Models on Google Cloud Platform: A Comprehensive Guide for Beginners, New York. Apress, 2019. 10.1007/978-1-4842-4470-8. |\n",
    "| [F++11]  |                                                                                                                                                                   Fabian Pedregosa; Gaël Varoquaux; Alexandre Gramfort; Vincent Michel; Bertrand Thirion; Olivier Grisel; Mathieu Blondel; Peter Prettenhofer; Ron Weiss; Vincent Dubourg; Jake Vanderplas; Alexandre Passos; David Cournapeau; Matthieu Brucher; Matthieu Perrot; Édouard Duchesnay; Scikit-learn: Machine Learning in Python, in: Journal of Machine Learning Research, 12, 2011, S. 2825–2830. |\n",
    "| [M++05]  | Martin Abadi; Paul Barham; Jianmin Chen; Zhifeng Chen; Andy Davis; Jeffrey Dean; Matthieu Devin; Sanjay Ghemawat; Geoffrey Irving; Michael Isard; Manjunath Kudlur; Josh Levenberg; Rajat Monga; Sherry Moore; Derek G. Murray; Benoit Steiner; Paul Tucker; Vijay Vasudevan; Pete Warden; Martin Wicke; Yuan Yu; Xiaoqiang Zheng; TensorFlow: A System for Large-Scale Machine Learning, in: Maria Papadopouli (Hrsg.), Papers presented at the 2005 workshop on Wireless traffic measurements and modeling, Berkeley, CA, USENIX Association, 2005, S. 265–283. |"
   ],
   "id": "bb5e958f83b1a631"
  }
 ],
 "metadata": {
  "kernelspec": {
   "display_name": "Python 3",
   "language": "python",
   "name": "python3"
  },
  "language_info": {
   "codemirror_mode": {
    "name": "ipython",
    "version": 2
   },
   "file_extension": ".py",
   "mimetype": "text/x-python",
   "name": "python",
   "nbconvert_exporter": "python",
   "pygments_lexer": "ipython2",
   "version": "2.7.6"
  }
 },
 "nbformat": 4,
 "nbformat_minor": 5
}
